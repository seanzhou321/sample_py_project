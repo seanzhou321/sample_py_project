{
 "cells": [
  {
   "cell_type": "code",
   "execution_count": null,
   "metadata": {},
   "outputs": [],
   "source": [
    "# Run User Service\n",
    "from sample_project.services.user_service import UserService\n",
    "\n",
    "# Create a new user service\n",
    "service = UserService()\n",
    "\n",
    "# Create a new user\n",
    "user = service.create_user(\"alice\", \"alice@example.com\")\n",
    "\n",
    "# Get user info\n",
    "info = service.get_user_info(user)\n",
    "print(info)\n",
    "# Output: {'username': 'alice', 'email': 'alice@example.com', 'status': 'active'}"
   ]
  },
  {
   "cell_type": "code",
   "execution_count": 1,
   "metadata": {},
   "outputs": [
    {
     "name": "stdout",
     "output_type": "stream",
     "text": [
      "Successfully executed query, returned 3 rows\n",
      "  aircraft_code                model  range\n",
      "0           773       Boeing 777-300  11100\n",
      "1           763       Boeing 767-300   7900\n",
      "2           SU9  Sukhoi Superjet-100   3000\n"
     ]
    }
   ],
   "source": [
    "# load sqlite data\n",
    "from sample_project.resource_loader import ResourceLoader, RESOURCE_ROOT\n",
    "\n",
    "loader = ResourceLoader()\n",
    "\n",
    "db = loader.load_sqlite_data(\"travel2.sqlite\", \"select * from aircrafts_data LIMIT 3\", RESOURCE_ROOT)\n",
    "print(db)\n"
   ]
  }
 ],
 "metadata": {
  "kernelspec": {
   "display_name": "venv",
   "language": "python",
   "name": "python3"
  },
  "language_info": {
   "codemirror_mode": {
    "name": "ipython",
    "version": 3
   },
   "file_extension": ".py",
   "mimetype": "text/x-python",
   "name": "python",
   "nbconvert_exporter": "python",
   "pygments_lexer": "ipython3",
   "version": "3.12.7"
  }
 },
 "nbformat": 4,
 "nbformat_minor": 2
}
